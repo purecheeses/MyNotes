{
 "cells": [
  {
   "cell_type": "code",
   "execution_count": 24,
   "metadata": {},
   "outputs": [],
   "source": [
    "# encoding = utf-8\n",
    "import pandas as pd\n",
    "import numpy as np\n",
    "import random\n",
    "import time\n",
    "from  sklearn.cross_validation import train_test_split\n",
    "from sklearn.metrics import accuracy_score"
   ]
  },
  {
   "cell_type": "code",
   "execution_count": 5,
   "metadata": {},
   "outputs": [],
   "source": [
    "raw_data= pd.read_csv(\"data/train_binary.csv\")"
   ]
  },
  {
   "cell_type": "code",
   "execution_count": 6,
   "metadata": {},
   "outputs": [],
   "source": [
    "data = raw_data.values"
   ]
  },
  {
   "cell_type": "code",
   "execution_count": 7,
   "metadata": {},
   "outputs": [],
   "source": [
    "imgs = data[0::,1::]\n",
    "labels = data[::,0]"
   ]
  },
  {
   "cell_type": "code",
   "execution_count": 11,
   "metadata": {},
   "outputs": [],
   "source": [
    "train_x,test_x,train_y,test_y = train_test_split(imgs,labels,test_size = 0.33)"
   ]
  },
  {
   "cell_type": "code",
   "execution_count": 61,
   "metadata": {},
   "outputs": [],
   "source": [
    "class Perceptron(object):\n",
    "    def __init__(self):\n",
    "        self.learning_step = 0.0001\n",
    "        self.max_iter = 5000\n",
    "    \n",
    "    def predict_(self,x):\n",
    "        wx = sum([self.w[j]*x[j] for j in range(len(self.w))])\n",
    "        return int(wx>0)\n",
    "    \n",
    "    def train(self,features,labels):\n",
    "        self.w = [0] * (len(features[0])+1)\n",
    "        \n",
    "        correct_count = 0\n",
    "        time = 0 \n",
    "        \n",
    "        while time< self.max_iter:\n",
    "            index = random.randint(0, len(labels) - 1)\n",
    "            x = list(features[index])\n",
    "            x.append(1.0)\n",
    "            y = 2 * labels[index] - 1\n",
    "            wx = sum([self.w[j] * x[j] for j in range(len(self.w))])\n",
    "\n",
    "            if wx * y > 0:\n",
    "                correct_count += 1\n",
    "                if correct_count > self.max_iter:\n",
    "                    break\n",
    "                continue\n",
    "\n",
    "            for i in range(len(self.w)):\n",
    "                self.w[i] += self.learning_step * (y * x[i])\n",
    "                \n",
    "    def predict(self,features):\n",
    "        labels = []\n",
    "        for feature in features:\n",
    "            x = list(feature)\n",
    "            x.append(1)\n",
    "            labels.append(self.predict_(x))\n",
    "        return labels       "
   ]
  },
  {
   "cell_type": "code",
   "execution_count": 62,
   "metadata": {},
   "outputs": [],
   "source": [
    "p = Perceptron()\n",
    "p.train(train_x,train_y)"
   ]
  },
  {
   "cell_type": "code",
   "execution_count": 63,
   "metadata": {},
   "outputs": [],
   "source": [
    "test_predict = p.predict(test_x)"
   ]
  },
  {
   "cell_type": "code",
   "execution_count": 66,
   "metadata": {},
   "outputs": [
    {
     "data": {
      "text/plain": [
       "0.98311688311688317"
      ]
     },
     "execution_count": 66,
     "metadata": {},
     "output_type": "execute_result"
    }
   ],
   "source": [
    "score = accuracy_score(test_y, test_predict)\n",
    "score"
   ]
  },
  {
   "cell_type": "code",
   "execution_count": null,
   "metadata": {},
   "outputs": [],
   "source": []
  }
 ],
 "metadata": {
  "kernelspec": {
   "display_name": "Python 3",
   "language": "python",
   "name": "python3"
  },
  "language_info": {
   "codemirror_mode": {
    "name": "ipython",
    "version": 3
   },
   "file_extension": ".py",
   "mimetype": "text/x-python",
   "name": "python",
   "nbconvert_exporter": "python",
   "pygments_lexer": "ipython3",
   "version": "3.5.4"
  }
 },
 "nbformat": 4,
 "nbformat_minor": 2
}
